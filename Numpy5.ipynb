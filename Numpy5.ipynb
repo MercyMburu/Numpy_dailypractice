{
 "cells": [
  {
   "cell_type": "markdown",
   "metadata": {},
   "source": [
    "# Numpy Exercise 5\n",
    "\n",
    "### All of the questions in this exercise are attributed to rougier/numpy-100"
   ]
  },
  {
   "cell_type": "code",
   "execution_count": 1,
   "metadata": {},
   "outputs": [],
   "source": [
    "import numpy as np"
   ]
  },
  {
   "cell_type": "markdown",
   "metadata": {},
   "source": [
    "#### 61. Find the nearest value from a given value in an array (★★☆)"
   ]
  },
  {
   "cell_type": "code",
   "execution_count": 4,
   "metadata": {},
   "outputs": [
    {
     "name": "stdout",
     "output_type": "stream",
     "text": [
      "Array:\n",
      " [37.89931401 13.4648098  33.23136415 17.67369911 29.77762094 48.11890742\n",
      " 34.30547777 72.73844952 69.53077952 44.25858353]\n",
      "\n",
      "Given value: 50\n",
      "Nearest value in array: 48.118907422944424\n"
     ]
    }
   ],
   "source": [
    "t= np.random.uniform(0, 100, 10)   # random values between 0 and 100\n",
    "print(\"Array:\\n\", t)\n",
    "\n",
    "# Given value\n",
    "num = 50\n",
    "\n",
    "# Find index of nearest value\n",
    "idx = (np.abs(t- num)).argmin()\n",
    "\n",
    "print(f\"\\nGiven value: {num}\")\n",
    "print(f\"Nearest value in array: {t[idx]}\")\n"
   ]
  },
  {
   "cell_type": "markdown",
   "metadata": {},
   "source": [
    "#### 62. Considering two arrays with shape (1,3) and (3,1), how to compute their sum using an iterator? (★★☆)"
   ]
  },
  {
   "cell_type": "code",
   "execution_count": null,
   "metadata": {},
   "outputs": [
    {
     "name": "stdout",
     "output_type": "stream",
     "text": [
      "A:\n",
      " [[0 1 2]]\n",
      "B:\n",
      " [[0]\n",
      " [1]\n",
      " [2]]\n",
      "\n",
      "Result (A+B):\n",
      " [[0 1 2]\n",
      " [1 2 3]\n",
      " [2 3 4]]\n"
     ]
    }
   ],
   "source": [
    "\n",
    "A = np.arange(3).reshape(1, 3)   \n",
    "B = np.arange(3).reshape(3, 1)   \n",
    "\n",
    "print(\"A:\\n\", A)\n",
    "print(\"B:\\n\", B)\n",
    "\n",
    "# Use nditer with broadcasting\n",
    "it = np.nditer([A, B, None])\n",
    "for x, y, z in it:\n",
    "    z[...] = x + y   # compute sum\n",
    "\n",
    "# Reshape result to broadcasted shape\n",
    "result = it.operands[2]\n",
    "print(\"\\nResult (A+B):\\n\", result)"
   ]
  },
  {
   "cell_type": "markdown",
   "metadata": {},
   "source": [
    "#### 63. Create an array class that has a name attribute (★★☆)"
   ]
  },
  {
   "cell_type": "code",
   "execution_count": 6,
   "metadata": {},
   "outputs": [
    {
     "name": "stdout",
     "output_type": "stream",
     "text": [
      "[1 2 3 4]\n",
      "Name: MyArray\n",
      "\n",
      "Sliced: [2 3]\n",
      "Sliced Name: MyArray\n"
     ]
    }
   ],
   "source": [
    "class NamedArray(np.ndarray):\n",
    "    def __new__(cls, input_array, name=\"unnamed\"):\n",
    "        # Convert input to ndarray, then view as NamedArray\n",
    "        obj = np.asarray(input_array).view(cls)\n",
    "        obj.name = name\n",
    "        return obj\n",
    "    \n",
    "    def __array_finalize__(self, obj):\n",
    "        # This makes sure 'name' is preserved during slicing/copying\n",
    "        if obj is None: return\n",
    "        self.name = getattr(obj, 'name', \"unnamed\")\n",
    "\n",
    "# Example usage\n",
    "a = NamedArray([1, 2, 3, 4], name=\"MyArray\")\n",
    "print(a)\n",
    "print(\"Name:\", a.name)\n",
    "\n",
    "# Slice example\n",
    "b = a[1:3]\n",
    "print(\"\\nSliced:\", b)\n",
    "print(\"Sliced Name:\", b.name)"
   ]
  },
  {
   "cell_type": "markdown",
   "metadata": {},
   "source": [
    "#### 64. Consider a given vector, how to add 1 to each element indexed by a second vector (be careful with repeated indices)? (★★★)"
   ]
  },
  {
   "cell_type": "code",
   "execution_count": null,
   "metadata": {},
   "outputs": [
    {
     "name": "stdout",
     "output_type": "stream",
     "text": [
      "[0 0 1 2 0 1 0 0 0 0]\n"
     ]
    }
   ],
   "source": [
    "Z = np.zeros(10, dtype=int)\n",
    "I = [2, 3, 3, 5]\n",
    "\n",
    "np.add.at(Z, I, 1)   \n",
    "print(Z)"
   ]
  },
  {
   "cell_type": "markdown",
   "metadata": {},
   "source": [
    "#### 65. How to accumulate elements of a vector (X) to an array (F) based on an index list (I)? (★★★)"
   ]
  },
  {
   "cell_type": "code",
   "execution_count": 26,
   "metadata": {},
   "outputs": [
    {
     "name": "stdout",
     "output_type": "stream",
     "text": [
      "[1 5 9]\n"
     ]
    }
   ],
   "source": [
    "X = np.array([1, 2, 3, 4, 5])\n",
    "\n",
    "# Indices where values should go\n",
    "I = np.array([0, 1, 1, 2, 2])\n",
    "\n",
    "# Target array (size must cover max index)\n",
    "F = np.zeros(3, dtype=int)\n",
    "\n",
    "# Accumulate\n",
    "np.add.at(F, I, X)\n",
    "\n",
    "print(F)"
   ]
  },
  {
   "cell_type": "markdown",
   "metadata": {},
   "source": [
    "#### 66. Considering a (w,h,3) image of (dtype=ubyte), compute the number of unique colors (★★☆)"
   ]
  },
  {
   "cell_type": "code",
   "execution_count": 27,
   "metadata": {},
   "outputs": [
    {
     "name": "stdout",
     "output_type": "stream",
     "text": [
      "Unique colors:\n",
      " [[  8 205 243]\n",
      " [ 12 203 173]\n",
      " [ 29   3  62]\n",
      " [ 29 185 222]\n",
      " [ 96  62 121]\n",
      " [130  35 118]\n",
      " [133 147 194]\n",
      " [134 250  99]\n",
      " [192   9 190]\n",
      " [199  79   7]\n",
      " [204 177 124]\n",
      " [208 199 147]\n",
      " [216 167 149]\n",
      " [222  82 187]\n",
      " [238  35 175]\n",
      " [254  71  53]]\n",
      "Number of unique colors: 16\n"
     ]
    }
   ],
   "source": [
    "# Example: random image (w=4, h=4, 3 channels, dtype=uint8)\n",
    "w, h = 4, 4\n",
    "image = np.random.randint(0, 256, size=(w, h, 3), dtype=np.uint8)\n",
    "\n",
    "# Reshape to list of pixels\n",
    "pixels = image.reshape(-1, 3)\n",
    "\n",
    "# Find unique rows (unique colors)\n",
    "unique_colors = np.unique(pixels, axis=0)\n",
    "\n",
    "# Number of unique colors\n",
    "num_colors = len(unique_colors)\n",
    "\n",
    "print(\"Unique colors:\\n\", unique_colors)\n",
    "print(\"Number of unique colors:\", num_colors)"
   ]
  },
  {
   "cell_type": "markdown",
   "metadata": {},
   "source": [
    "#### 67. Considering a four dimensions array, how to get sum over the last two axis at once? (★★★)"
   ]
  },
  {
   "cell_type": "code",
   "execution_count": null,
   "metadata": {},
   "outputs": [
    {
     "name": "stdout",
     "output_type": "stream",
     "text": [
      "Shape before: (2, 3, 4, 5)\n",
      "Shape after : (2, 3)\n"
     ]
    }
   ],
   "source": [
    "Z = np.random.rand(2, 3, 4, 5) \n",
    "\n",
    "# Sum over the last two axes\n",
    "result = Z.sum(axis=(-2, -1))\n",
    "\n",
    "print(\"Shape before:\", Z.shape)\n",
    "print(\"Shape after :\", result.shape)"
   ]
  },
  {
   "cell_type": "markdown",
   "metadata": {},
   "source": [
    "#### 68. Considering a one-dimensional vector D, how to compute means of subsets of D using a vector S of same size describing subset  indices? (★★★)"
   ]
  },
  {
   "cell_type": "code",
   "execution_count": 29,
   "metadata": {},
   "outputs": [
    {
     "name": "stdout",
     "output_type": "stream",
     "text": [
      "Sums : [ 40.  60. 110.]\n",
      "Counts: [2 2 2]\n",
      "Means: [20. 30. 55.]\n"
     ]
    }
   ],
   "source": [
    "#  Data\n",
    "D = np.array([10, 20, 30, 40, 50, 60])\n",
    "S = np.array([0, 1, 0, 1, 2, 2])   # subset labels\n",
    "\n",
    "# Step 1: get sums per group\n",
    "sums = np.bincount(S, weights=D)\n",
    "\n",
    "# Step 2: get counts per group\n",
    "counts = np.bincount(S)\n",
    "\n",
    "# Step 3: compute means\n",
    "means = sums / counts\n",
    "\n",
    "print(\"Sums :\", sums)\n",
    "print(\"Counts:\", counts)\n",
    "print(\"Means:\", means)"
   ]
  },
  {
   "cell_type": "markdown",
   "metadata": {},
   "source": [
    "#### 69. How to get the diagonal of a dot product? (★★★)"
   ]
  },
  {
   "cell_type": "code",
   "execution_count": 30,
   "metadata": {},
   "outputs": [
    {
     "name": "stdout",
     "output_type": "stream",
     "text": [
      "[1.75551286 1.42990925 1.71998157 0.39345049]\n"
     ]
    }
   ],
   "source": [
    "A = np.random.rand(4, 5)\n",
    "B = np.random.rand(5, 4)\n",
    "\n",
    "diag = np.diag(np.dot(A, B))\n",
    "print(diag)"
   ]
  },
  {
   "cell_type": "markdown",
   "metadata": {},
   "source": [
    "#### 70. Consider the vector [1, 2, 3, 4, 5], how to build a new vector with 3 consecutive zeros interleaved between each value? (★★★)"
   ]
  },
  {
   "cell_type": "code",
   "execution_count": 31,
   "metadata": {},
   "outputs": [
    {
     "name": "stdout",
     "output_type": "stream",
     "text": [
      "[1 0 0 0 2 0 0 0 3 0 0 0 4 0 0 0 5 0 0 0]\n"
     ]
    }
   ],
   "source": [
    "Z = np.array([1, 2, 3, 4, 5])\n",
    "k = 3  # number of zeros to insert\n",
    "\n",
    "# Create new array filled with zeros\n",
    "out = np.zeros(len(Z) * (k + 1), dtype=Z.dtype)\n",
    "\n",
    "# Fill every (k+1)-th position with Z\n",
    "out[::k+1] = Z\n",
    "\n",
    "print(out)"
   ]
  },
  {
   "cell_type": "markdown",
   "metadata": {},
   "source": [
    "#### 71. Consider an array of dimension (5,5,3), how to mulitply it by an array with dimensions (5,5)? (★★★)"
   ]
  },
  {
   "cell_type": "code",
   "execution_count": 32,
   "metadata": {},
   "outputs": [
    {
     "name": "stdout",
     "output_type": "stream",
     "text": [
      "A shape: (5, 5, 3)\n",
      "B shape: (5, 5)\n",
      "C shape: (5, 5, 3)\n"
     ]
    }
   ],
   "source": [
    "A = np.random.rand(5, 5, 3)\n",
    "B = np.random.rand(5, 5)\n",
    "\n",
    "# Expand B to match A’s shape\n",
    "C = A * B[:, :, None]    #B[:, :, None] → reshapes B from (5,5) → (5,5,1).\n",
    "\n",
    "print(\"A shape:\", A.shape)\n",
    "print(\"B shape:\", B.shape)\n",
    "print(\"C shape:\", C.shape)"
   ]
  },
  {
   "cell_type": "markdown",
   "metadata": {},
   "source": [
    "#### 72. How to swap two rows of an array? (★★★)"
   ]
  },
  {
   "cell_type": "code",
   "execution_count": null,
   "metadata": {},
   "outputs": [
    {
     "name": "stdout",
     "output_type": "stream",
     "text": [
      "Original array:\n",
      " [[ 0  1  2]\n",
      " [ 3  4  5]\n",
      " [ 6  7  8]\n",
      " [ 9 10 11]]\n",
      "\n",
      "After swapping row 1 and row 3:\n",
      " [[ 0  1  2]\n",
      " [ 9 10 11]\n",
      " [ 6  7  8]\n",
      " [ 3  4  5]]\n"
     ]
    }
   ],
   "source": [
    "A = np.arange(12).reshape(4, 3)\n",
    "print(\"Original array:\\n\", A)\n",
    "\n",
    "# swap row 1 and row 3 (0-based indexing)\n",
    "i, j = 1, 3\n",
    "A[[i, j]] = A[[j, i]]\n",
    "\n",
    "print(\"\\nAfter swapping row 1 and row 3:\\n\", A)\n",
    "\n",
    "# A[[i, j]] → selects the two rows.\n",
    "\n",
    "# Assigning them reversed → A[[j, i]] performs the swap in place."
   ]
  },
  {
   "cell_type": "markdown",
   "metadata": {},
   "source": [
    "#### 73. Consider a set of 10 triplets describing 10 triangles (with shared vertices), find the set of unique line segments composing all the  triangles (★★★)"
   ]
  },
  {
   "cell_type": "code",
   "execution_count": 34,
   "metadata": {},
   "outputs": [
    {
     "name": "stdout",
     "output_type": "stream",
     "text": [
      "Triangles:\n",
      " [[1 3 5]\n",
      " [7 3 6]\n",
      " [6 7 9]\n",
      " [1 9 6]\n",
      " [0 3 8]\n",
      " [4 1 4]\n",
      " [5 0 3]\n",
      " [1 4 4]\n",
      " [4 0 0]\n",
      " [8 4 6]]\n",
      "\n",
      "Unique edges (line segments):\n",
      " [[0 0]\n",
      " [0 3]\n",
      " [0 4]\n",
      " [0 5]\n",
      " [0 8]\n",
      " [1 3]\n",
      " [1 4]\n",
      " [1 5]\n",
      " [1 6]\n",
      " [1 9]\n",
      " [3 5]\n",
      " [3 6]\n",
      " [3 7]\n",
      " [3 8]\n",
      " [4 4]\n",
      " [4 6]\n",
      " [4 8]\n",
      " [6 7]\n",
      " [6 8]\n",
      " [6 9]\n",
      " [7 9]]\n"
     ]
    }
   ],
   "source": [
    "# Example: 10 triangles, each row = triplet of vertex indices\n",
    "triangles = np.random.randint(0, 10, (10, 3))\n",
    "print(\"Triangles:\\n\", triangles)\n",
    "\n",
    "# Step 1: Extract edges from each triangle\n",
    "# Each triangle has 3 edges (pairs of vertices)\n",
    "edges = np.vstack([\n",
    "    triangles[:, [0, 1]],\n",
    "    triangles[:, [1, 2]],\n",
    "    triangles[:, [2, 0]]\n",
    "])\n",
    "\n",
    "# Step 2: Sort each edge so (a, b) and (b, a) are treated the same\n",
    "edges = np.sort(edges, axis=1)\n",
    "\n",
    "# Step 3: Keep only unique edges\n",
    "unique_edges = np.unique(edges, axis=0)\n",
    "\n",
    "print(\"\\nUnique edges (line segments):\\n\", unique_edges)"
   ]
  },
  {
   "cell_type": "markdown",
   "metadata": {},
   "source": [
    "#### 74. Given a sorted array C that corresponds to a bincount, how to produce an array A such that np.bincount(A) == C? (★★★)"
   ]
  },
  {
   "cell_type": "code",
   "execution_count": 35,
   "metadata": {},
   "outputs": [
    {
     "name": "stdout",
     "output_type": "stream",
     "text": [
      "C = [0 2 1 0 3]\n",
      "Reconstructed A = [1 1 2 4 4 4]\n",
      "Check: [0 2 1 0 3] == [0 2 1 0 3]\n"
     ]
    }
   ],
   "source": [
    "# Example bincount result\n",
    "C = np.array([0, 2, 1, 0, 3])  \n",
    "# Meaning: 0 appears 0 times, 1 appears 2 times, 2 appears 1 time, 3 appears 0 times, 4 appears 3 times\n",
    "\n",
    "# Reconstruct A\n",
    "A = np.repeat(np.arange(len(C)), C)\n",
    "\n",
    "print(\"C =\", C)\n",
    "print(\"Reconstructed A =\", A)\n",
    "print(\"Check:\", np.bincount(A), \"==\", C)"
   ]
  },
  {
   "cell_type": "markdown",
   "metadata": {},
   "source": [
    "#### 75. How to compute averages using a sliding window over an array? (★★★)"
   ]
  },
  {
   "cell_type": "code",
   "execution_count": 36,
   "metadata": {},
   "outputs": [
    {
     "name": "stdout",
     "output_type": "stream",
     "text": [
      "[1. 2. 3. 4. 5. 6. 7. 8.]\n"
     ]
    }
   ],
   "source": [
    "A = np.arange(10)   # [0 1 2 3 4 5 6 7 8 9]\n",
    "k = 3               # window size\n",
    "\n",
    "window = np.ones(k) / k\n",
    "sliding_avg = np.convolve(A, window, mode='valid')\n",
    "\n",
    "print(sliding_avg)"
   ]
  },
  {
   "cell_type": "markdown",
   "metadata": {},
   "source": [
    "#### 76. Consider a one-dimensional array Z, build a two-dimensional array whose first row is (Z[0],Z[1],Z[2]) and each subsequent row is  shifted by 1 (last row should be (Z[-3],Z[-2],Z[-1]) (★★★)"
   ]
  },
  {
   "cell_type": "code",
   "execution_count": 37,
   "metadata": {},
   "outputs": [
    {
     "name": "stdout",
     "output_type": "stream",
     "text": [
      "[[0 1 2]\n",
      " [1 2 3]\n",
      " [2 3 4]\n",
      " [3 4 5]\n",
      " [4 5 6]\n",
      " [5 6 7]\n",
      " [6 7 8]\n",
      " [7 8 9]]\n"
     ]
    }
   ],
   "source": [
    "from numpy.lib.stride_tricks import sliding_window_view\n",
    "\n",
    "Z = np.arange(10)  # Example: [0 1 2 3 4 5 6 7 8 9]\n",
    "\n",
    "# Window size = 3\n",
    "M = sliding_window_view(Z, 3)\n",
    "\n",
    "print(M)"
   ]
  },
  {
   "cell_type": "markdown",
   "metadata": {},
   "source": [
    "#### 77. How to negate a boolean, or to change the sign of a float inplace? (★★★)"
   ]
  },
  {
   "cell_type": "code",
   "execution_count": 38,
   "metadata": {},
   "outputs": [
    {
     "name": "stdout",
     "output_type": "stream",
     "text": [
      "[False  True False  True]\n",
      "[ True False  True False]\n"
     ]
    }
   ],
   "source": [
    "Z = np.array([True, False, True, False])\n",
    "\n",
    "# Method 1: bitwise NOT (~) works in-place\n",
    "Z = ~Z\n",
    "print(Z)\n",
    "\n",
    "# Method 2: XOR with True (also in-place)\n",
    "Z ^= True\n",
    "print(Z)"
   ]
  },
  {
   "cell_type": "markdown",
   "metadata": {},
   "source": [
    "#### 78. Consider 2 sets of points P0,P1 describing lines (2d) and a point p, how to compute distance from p to each line i (P0[i],P1[i])? (★★★)"
   ]
  },
  {
   "cell_type": "code",
   "execution_count": 41,
   "metadata": {},
   "outputs": [
    {
     "name": "stdout",
     "output_type": "stream",
     "text": [
      "[2.         0.4472136  2.12132034]\n"
     ]
    }
   ],
   "source": [
    "# Example: 3 lines defined by start (P0) and end (P1) points\n",
    "P0 = np.array([[0, 0],\n",
    "               [1, 1],\n",
    "               [2, 0]], dtype=float)\n",
    "\n",
    "P1 = np.array([[1, 0],\n",
    "               [2, 3],\n",
    "               [3, 1]], dtype=float)\n",
    "\n",
    "# Point p\n",
    "p = np.array([1, 2], dtype=float)\n",
    "\n",
    "# Vector from P0 to P1\n",
    "dP = P1 - P0        # shape (n,2)\n",
    "\n",
    "# Vector from P0 to p\n",
    "dPp = p - P0        # shape (n,2)\n",
    "\n",
    "# Cross product (2D -> scalar using determinant trick)\n",
    "cross = np.abs(dP[:,0]*dPp[:,1] - dP[:,1]*dPp[:,0])\n",
    "\n",
    "# Norm of direction vector\n",
    "norms = np.linalg.norm(dP, axis=1)\n",
    "\n",
    "# Distances\n",
    "distances = cross / norms\n",
    "print(distances)"
   ]
  },
  {
   "cell_type": "markdown",
   "metadata": {},
   "source": [
    "#### 79. Consider 2 sets of points P0,P1 describing lines (2d) and a set of points P, how to compute distance from each point j (P[j]) to each line i (P0[i],P1[i])? (★★★)"
   ]
  },
  {
   "cell_type": "code",
   "execution_count": null,
   "metadata": {},
   "outputs": [],
   "source": []
  },
  {
   "cell_type": "markdown",
   "metadata": {},
   "source": [
    "#### 80. Consider an arbitrary array, write a function that extract a subpart with a fixed shape and centered on a given element (pad with a `fill` value when necessary) (★★★)"
   ]
  },
  {
   "cell_type": "code",
   "execution_count": 43,
   "metadata": {},
   "outputs": [
    {
     "name": "stdout",
     "output_type": "stream",
     "text": [
      "Original:\n",
      " [[ 0  1  2  3  4]\n",
      " [ 5  6  7  8  9]\n",
      " [10 11 12 13 14]\n",
      " [15 16 17 18 19]\n",
      " [20 21 22 23 24]]\n",
      "\n",
      "Patch centered at (0,0):\n",
      " [[-1 -1 -1]\n",
      " [-1  0  1]\n",
      " [-1  5  6]]\n"
     ]
    }
   ],
   "source": [
    "def extract_centered(Z, shape, position, fill=0):\n",
    "    \"\"\"\n",
    "    Extract a fixed-size subarray centered at a given position.\n",
    "    Pads with `fill` if the window goes outside array bounds.\n",
    "\n",
    "    Parameters\n",
    "    ----------\n",
    "    Z : np.ndarray\n",
    "        Input array.\n",
    "    shape : tuple of ints\n",
    "        Desired shape of the subarray (e.g. (3,3)).\n",
    "    position : tuple of ints\n",
    "        Coordinates of the center element in Z.\n",
    "    fill : scalar, optional\n",
    "        Value to pad with (default=0).\n",
    "\n",
    "    Returns\n",
    "    -------\n",
    "    subZ : np.ndarray\n",
    "        Extracted subarray of shape `shape`.\n",
    "    \"\"\"\n",
    "    shape = np.array(shape)\n",
    "    position = np.array(position)\n",
    "    dims = np.array(Z.shape)\n",
    "\n",
    "    # half sizes\n",
    "    half = shape // 2\n",
    "\n",
    "    # output array initialized with fill\n",
    "    out = np.full(shape, fill, dtype=Z.dtype)\n",
    "\n",
    "    # coordinate ranges in input\n",
    "    start_in = np.maximum(position - half, 0)\n",
    "    end_in   = np.minimum(position + half + 1, dims)\n",
    "\n",
    "    # coordinate ranges in output\n",
    "    start_out = (start_in - (position - half))\n",
    "    end_out   = start_out + (end_in - start_in)\n",
    "\n",
    "    # copy from input to output\n",
    "    out[tuple(map(slice, start_out, end_out))] = Z[tuple(map(slice, start_in, end_in))]\n",
    "\n",
    "    return out\n",
    "\n",
    "\n",
    "Z = np.arange(25).reshape(5,5)\n",
    "\n",
    "# Extract a 3x3 patch centered at (0,0) with padding = -1\n",
    "sub = extract_centered(Z, (3,3), (0,0), fill=-1)\n",
    "\n",
    "print(\"Original:\\n\", Z)\n",
    "print(\"\\nPatch centered at (0,0):\\n\", sub)"
   ]
  },
  {
   "cell_type": "markdown",
   "metadata": {},
   "source": [
    "#### 81. Consider an array Z = [1,2,3,4,5,6,7,8,9,10,11,12,13,14], how to generate an array R = [[1,2,3,4], [2,3,4,5], [3,4,5,6], ..., [11,12,13,14]]? (★★★)"
   ]
  },
  {
   "cell_type": "code",
   "execution_count": 44,
   "metadata": {},
   "outputs": [
    {
     "name": "stdout",
     "output_type": "stream",
     "text": [
      "[[ 1  2  3  4]\n",
      " [ 2  3  4  5]\n",
      " [ 3  4  5  6]\n",
      " [ 4  5  6  7]\n",
      " [ 5  6  7  8]\n",
      " [ 6  7  8  9]\n",
      " [ 7  8  9 10]\n",
      " [ 8  9 10 11]\n",
      " [ 9 10 11 12]\n",
      " [10 11 12 13]\n",
      " [11 12 13 14]]\n"
     ]
    }
   ],
   "source": [
    "from numpy.lib.stride_tricks import sliding_window_view\n",
    "\n",
    "Z = np.arange(1, 15)   # [1, 2, ..., 14]\n",
    "R = sliding_window_view(Z, 4)\n",
    "\n",
    "print(R)"
   ]
  },
  {
   "cell_type": "markdown",
   "metadata": {},
   "source": [
    "#### 82. Compute a matrix rank (★★★)"
   ]
  },
  {
   "cell_type": "code",
   "execution_count": 45,
   "metadata": {},
   "outputs": [
    {
     "name": "stdout",
     "output_type": "stream",
     "text": [
      "Matrix:\n",
      " [[1 2 3]\n",
      " [4 5 6]\n",
      " [7 8 9]]\n",
      "Rank: 2\n"
     ]
    }
   ],
   "source": [
    "A = np.array([[1, 2, 3],\n",
    "              [4, 5, 6],\n",
    "              [7, 8, 9]])\n",
    "\n",
    "rank = np.linalg.matrix_rank(A)\n",
    "\n",
    "print(\"Matrix:\\n\", A)\n",
    "print(\"Rank:\", rank)"
   ]
  },
  {
   "cell_type": "markdown",
   "metadata": {},
   "source": [
    "#### 83. How to find the most frequent value in an array?"
   ]
  },
  {
   "cell_type": "code",
   "execution_count": 47,
   "metadata": {},
   "outputs": [
    {
     "name": "stdout",
     "output_type": "stream",
     "text": [
      "Most frequent value: 2\n"
     ]
    }
   ],
   "source": [
    "a = np.array([1, 2, 3, 2, 4, 2, 5, 1])\n",
    "values, counts = np.unique(a, return_counts=True)\n",
    "most_frequent = values[counts.argmax()]\n",
    "\n",
    "print(\"Most frequent value:\", most_frequent)"
   ]
  },
  {
   "cell_type": "markdown",
   "metadata": {},
   "source": [
    "#### 84. Extract all the contiguous 3x3 blocks from a random 10x10 matrix (★★★)"
   ]
  },
  {
   "cell_type": "code",
   "execution_count": 48,
   "metadata": {},
   "outputs": [
    {
     "name": "stdout",
     "output_type": "stream",
     "text": [
      "Shape of blocks: (8, 8, 3, 3)\n",
      "First block:\n",
      " [[9 4 1]\n",
      " [6 2 3]\n",
      " [9 6 5]]\n"
     ]
    }
   ],
   "source": [
    "# Random 10x10 matrix\n",
    "Z = np.random.randint(0, 10, (10, 10))\n",
    "\n",
    "# Extract contiguous 3x3 blocks\n",
    "from numpy.lib.stride_tricks import sliding_window_view\n",
    "\n",
    "blocks = sliding_window_view(Z, (3, 3))\n",
    "\n",
    "print(\"Shape of blocks:\", blocks.shape)   # (8, 8, 3, 3)\n",
    "print(\"First block:\\n\", blocks[0, 0])"
   ]
  },
  {
   "cell_type": "markdown",
   "metadata": {},
   "source": [
    "#### 85. Create a 2D array subclass such that Z[i,j] == Z[j,i] (★★★)"
   ]
  },
  {
   "cell_type": "code",
   "execution_count": 40,
   "metadata": {},
   "outputs": [
    {
     "ename": "IndentationError",
     "evalue": "expected an indented block after class definition on line 1 (79281964.py, line 2)",
     "output_type": "error",
     "traceback": [
      "  \u001b[36mCell\u001b[39m\u001b[36m \u001b[39m\u001b[32mIn[40]\u001b[39m\u001b[32m, line 2\u001b[39m\n\u001b[31m    \u001b[39m\u001b[31m\"\"\"A 2D square ndarray subclass that keeps itself symmetric: Z[i,j] == Z[j,i].\u001b[39m\n    ^\n\u001b[31mIndentationError\u001b[39m\u001b[31m:\u001b[39m expected an indented block after class definition on line 1\n"
     ]
    }
   ],
   "source": [
    "class SymmetricArray(np.ndarray):\n",
    "\"\"\"A 2D square ndarray subclass that keeps itself symmetric: Z[i,j] == Z[j,i].\n",
    "\n",
    "\n",
    "Behavior\n",
    "--------\n",
    "* Scalar assignments to single element pairs (Z[i,j] = v where i and j are ints)\n",
    "are mirrored so both Z[i,j] and Z[j,i] get the same value.\n",
    "* More complex assignments (slices, boolean masks, etc.) are allowed; after the\n",
    "assignment the array is \"symmetrized\" by copying the upper triangle to the\n",
    "lower triangle (so the upper triangle values take precedence).\n",
    "\n",
    "\n",
    "Notes\n",
    "-----\n",
    "* The array must be 2-dimensional and square. Construction from non-square\n",
    "data will raise a ValueError.\n",
    "* The subclass preserves dtype and typical ndarray behavior.\n",
    "\"\"\"\n",
    "\n",
    "\n",
    "def __new__(cls, input_array, dtype=None, copy=False):\n",
    "arr = np.array(input_array, dtype=dtype, copy=copy)\n",
    "if arr.ndim != 2 or arr.shape[0] != arr.shape[1]:\n",
    "raise ValueError(\"SymmetricArray must be created from a square 2D array\")\n",
    "obj = arr.view(cls)\n",
    "return obj\n",
    "\n",
    "\n",
    "def __array_finalize__(self, obj):\n",
    "# Called on new view, slice, etc. Ensure shape validity and keep dtype\n",
    "if obj is None:\n",
    "return\n",
    "if self.ndim != 2 or self.shape[0] != self.shape[1]:\n",
    "raise ValueError(\"SymmetricArray must be 2D square\")\n",
    "\n",
    "\n",
    "def _symmetrize_upper_to_lower(self):\n",
    "\"\"\"Make the array symmetric by copying upper triangle to lower triangle.\"\"\"\n",
    "# Work on a view; preserve dtype\n",
    "n = self.shape[0]\n",
    "iu = np.triu_indices(n, k=1)\n",
    "# copy upper to lower\n",
    "self[(iu[1], iu[0])] = self[iu]\n",
    "\n",
    "\n",
    "def __setitem__(self, key, value):\n",
    "# Handle scalar pair assignment (i, j) where i and j are integers\n",
    "if (isinstance(key, tuple)\n",
    "and len(key) == 2\n",
    "and np.isscalar(key[0])\n",
    "and np.isscalar(key[1])):\n",
    "i, j = key\n",
    "# convert to ints (allow numpy ints)\n",
    "i = int(i); j = int(j)\n",
    "super(SymmetricArray, self).__setitem__((i, j), value)\n",
    "# Mirror to the symmetric position\n",
    "super(SymmetricArray, self).__setitem__((j, i), value)\n",
    "return\n",
    "\n",
    "\n",
    "# Fallback: do the assignment, then symmetrize by copying upper->lower\n",
    "super(SymmetricArray, self).__setitem__(key, value)\n",
    "self._symmetrize_upper_to_lower()\n",
    "\n",
    "\n",
    "# convenience constructor\n",
    "@classmethod"
   ]
  },
  {
   "cell_type": "markdown",
   "metadata": {},
   "source": [
    "#### 86. Consider a set of p matrices wich shape (n,n) and a set of p vectors with shape (n,1). How to compute the sum of of the p matrix products at once? (result has shape (n,1)) (★★★)"
   ]
  },
  {
   "cell_type": "code",
   "execution_count": 39,
   "metadata": {},
   "outputs": [
    {
     "name": "stdout",
     "output_type": "stream",
     "text": [
      "(3, 1)\n",
      "[[-2.52232614]\n",
      " [ 0.01916465]\n",
      " [-1.08975204]]\n"
     ]
    }
   ],
   "source": [
    "p, n = 4, 3\n",
    "M = np.random.randn(p, n, n)\n",
    "V = np.random.randn(p, n, 1)\n",
    "\n",
    "# Batch multiply and sum\n",
    "result = np.einsum('pij,pjk->ik', M, V)\n",
    "\n",
    "print(result.shape)  # (3,1)\n",
    "print(result)"
   ]
  },
  {
   "cell_type": "markdown",
   "metadata": {},
   "source": [
    "#### 87. Consider a 16x16 array, how to get the block-sum (block size is 4x4)? (★★★)"
   ]
  },
  {
   "cell_type": "code",
   "execution_count": 24,
   "metadata": {},
   "outputs": [
    {
     "name": "stdout",
     "output_type": "stream",
     "text": [
      "[[ 120  376  632  888]\n",
      " [1144 1400 1656 1912]\n",
      " [2168 2424 2680 2936]\n",
      " [3192 3448 3704 3960]]\n"
     ]
    }
   ],
   "source": [
    "Z = np.arange(16*16).reshape(16,16)\n",
    "\n",
    "# Reshape into blocks: (4,4,4,4)\n",
    "block_view = Z.reshape(4,4,4,4)\n",
    "\n",
    "# Sum over last two axes\n",
    "block_sum = block_view.sum(axis=(2,3))\n",
    "\n",
    "print(block_sum)"
   ]
  },
  {
   "cell_type": "markdown",
   "metadata": {},
   "source": [
    "#### 88. How to implement the Game of Life using numpy arrays? (★★★)"
   ]
  },
  {
   "cell_type": "code",
   "execution_count": 23,
   "metadata": {},
   "outputs": [
    {
     "name": "stdout",
     "output_type": "stream",
     "text": [
      "Initial grid:\n",
      " [[0 1 1 0 1 1]\n",
      " [1 1 1 1 1 0]\n",
      " [0 1 0 0 0 0]\n",
      " [0 1 0 1 1 0]\n",
      " [0 1 1 1 1 0]\n",
      " [1 0 1 0 1 1]]\n",
      "\n",
      "Step 1:\n",
      " [[0 0 0 0 0 0]\n",
      " [0 0 0 0 1 0]\n",
      " [0 0 0 0 0 1]\n",
      " [1 1 0 0 1 0]\n",
      " [0 0 0 0 0 0]\n",
      " [0 0 0 0 0 0]]\n",
      "\n",
      "Step 2:\n",
      " [[0 0 0 0 0 0]\n",
      " [0 0 0 0 0 0]\n",
      " [1 0 0 0 1 1]\n",
      " [1 0 0 0 0 1]\n",
      " [0 0 0 0 0 0]\n",
      " [0 0 0 0 0 0]]\n",
      "\n",
      "Step 3:\n",
      " [[0 0 0 0 0 0]\n",
      " [0 0 0 0 0 1]\n",
      " [1 0 0 0 1 0]\n",
      " [1 0 0 0 1 0]\n",
      " [0 0 0 0 0 0]\n",
      " [0 0 0 0 0 0]]\n"
     ]
    }
   ],
   "source": [
    "def game_of_life_step(X):\n",
    "    \"\"\"\n",
    "    Perform one iteration of Conway's Game of Life.\n",
    "    X: 2D NumPy array (0 = dead, 1 = alive)\n",
    "    \"\"\"\n",
    "    # Count neighbors using convolution-like shifting\n",
    "    neighbors = sum(np.roll(np.roll(X, i, 0), j, 1)\n",
    "                    for i in (-1, 0, 1) for j in (-1, 0, 1)\n",
    "                    if (i != 0 or j != 0))\n",
    "    \n",
    "    # Apply rules\n",
    "    return (neighbors == 3) | ((X == 1) & (neighbors == 2))\n",
    "\n",
    "\n",
    "# Example usage\n",
    "np.random.seed(0)\n",
    "X = np.random.randint(2, size=(6, 6))  # random 6x6 grid\n",
    "print(\"Initial grid:\\n\", X.astype(int))\n",
    "\n",
    "for step in range(3):   # run 3 steps\n",
    "    X = game_of_life_step(X)\n",
    "    print(f\"\\nStep {step+1}:\\n\", X.astype(int))"
   ]
  },
  {
   "cell_type": "markdown",
   "metadata": {},
   "source": [
    "#### 89. How to get the n largest values of an array (★★★)"
   ]
  },
  {
   "cell_type": "code",
   "execution_count": 22,
   "metadata": {},
   "outputs": [
    {
     "name": "stdout",
     "output_type": "stream",
     "text": [
      "[ 8 10 15]\n"
     ]
    }
   ],
   "source": [
    "arr = np.array([10, 2, 8, 4, 7, 15, 3])\n",
    "n = 3\n",
    "\n",
    "largest = np.sort(arr)[-n:]   # last n elements after sorting\n",
    "print(largest)"
   ]
  },
  {
   "cell_type": "markdown",
   "metadata": {},
   "source": [
    "#### 90. Given an arbitrary number of vectors, build the cartesian product (every combinations of every item) (★★★)"
   ]
  },
  {
   "cell_type": "code",
   "execution_count": 21,
   "metadata": {},
   "outputs": [
    {
     "name": "stdout",
     "output_type": "stream",
     "text": [
      "[[1 3 5]\n",
      " [1 4 5]\n",
      " [2 3 5]\n",
      " [2 4 5]\n",
      " [1 3 6]\n",
      " [1 4 6]\n",
      " [2 3 6]\n",
      " [2 4 6]]\n"
     ]
    }
   ],
   "source": [
    "# Example: 3 vectors\n",
    "A = np.array([1, 2])\n",
    "B = np.array([3, 4])\n",
    "C = np.array([5, 6])\n",
    "\n",
    "# Build cartesian product\n",
    "grid = np.array(np.meshgrid(A, B, C)).T.reshape(-1, 3)\n",
    "\n",
    "print(grid)"
   ]
  },
  {
   "cell_type": "markdown",
   "metadata": {},
   "source": [
    "#### 91. How to create a record array from a regular array? (★★★)"
   ]
  },
  {
   "cell_type": "code",
   "execution_count": 19,
   "metadata": {},
   "outputs": [
    {
     "name": "stdout",
     "output_type": "stream",
     "text": [
      "[(1, 2.5, 'foo') (2, 3.6, 'bar') (3, 4.7, 'baz')]\n",
      "[1 2 3]\n"
     ]
    }
   ],
   "source": [
    "# using arrays for columns\n",
    "\n",
    "ids = [1, 2, 3]\n",
    "vals = [2.5, 3.6, 4.7]\n",
    "labels = ['foo', 'bar', 'baz']\n",
    "\n",
    "r = np.rec.fromarrays([ids, vals, labels], names='id,value,label')\n",
    "\n",
    "print(r)\n",
    "print(r.id)\n",
    "\n",
    "\n"
   ]
  },
  {
   "cell_type": "markdown",
   "metadata": {},
   "source": [
    "#### 92. Consider a large vector Z, compute Z to the power of 3 using 3 different methods (★★★)"
   ]
  },
  {
   "cell_type": "code",
   "execution_count": null,
   "metadata": {},
   "outputs": [
    {
     "name": "stdout",
     "output_type": "stream",
     "text": [
      "4\n",
      "Method 1: [  1   8  27  64 125]\n",
      "Method 2: [  1   8  27  64 125]\n",
      "Method 3: [  1   8  27  64 125]\n"
     ]
    }
   ],
   "source": [
    "Z = np.arange(1, 6) \n",
    "\n",
    "# Method 1: Using ** operator (vectorized)  \n",
    "B1 = Z ** 3\n",
    "print(\"Method 1:\", B1)\n",
    "\n",
    "# Method 2: Using np.power\n",
    "B2 = np.power(Z, 3)\n",
    "print(\"Method 2:\", B2)\n",
    "\n",
    "# Using elementwise multiplication\n",
    "B3 = Z * Z * Z\n",
    "print(\"Method 3:\", B3)"
   ]
  },
  {
   "cell_type": "markdown",
   "metadata": {},
   "source": [
    "#### 93. Consider two arrays A and B of shape (8,3) and (2,2). How to find rows of A that contain elements of each row of B regardless of the order of the elements in B? (★★★)"
   ]
  },
  {
   "cell_type": "code",
   "execution_count": 13,
   "metadata": {},
   "outputs": [
    {
     "name": "stdout",
     "output_type": "stream",
     "text": [
      "A:\n",
      " [[1 2 3]\n",
      " [4 1 2]\n",
      " [5 6 7]\n",
      " [2 3 4]\n",
      " [8 1 4]\n",
      " [0 2 1]\n",
      " [9 8 7]\n",
      " [1 4 2]]\n",
      "\n",
      "B:\n",
      " [[1 2]\n",
      " [4 8]]\n",
      "\n",
      "Rows of A containing elements [1 2]:\n",
      " [[1 2 3]\n",
      " [4 1 2]\n",
      " [0 2 1]\n",
      " [1 4 2]]\n",
      "\n",
      "Rows of A containing elements [4 8]:\n",
      " [[8 1 4]]\n"
     ]
    }
   ],
   "source": [
    "A = np.array([\n",
    "    [1, 2, 3],\n",
    "    [4, 1, 2],\n",
    "    [5, 6, 7],\n",
    "    [2, 3, 4],\n",
    "    [8, 1, 4],\n",
    "    [0, 2, 1],\n",
    "    [9, 8, 7],\n",
    "    [1, 4, 2]\n",
    "])\n",
    "\n",
    "B = np.array([\n",
    "    [1, 2],\n",
    "    [4, 8]\n",
    "])\n",
    "\n",
    "print(\"A:\\n\", A)\n",
    "print(\"\\nB:\\n\", B)\n",
    "\n",
    "# For each row in B, check membership in A\n",
    "results = []\n",
    "for b in B:\n",
    "    mask = np.all(np.isin(b, A), axis=0)  # ensure elements of b are in A (column-wise)\n",
    "    # Better: check row-wise containment\n",
    "    row_mask = np.array([np.all(np.isin(b, row)) for row in A])\n",
    "    results.append(A[row_mask])\n",
    "\n",
    "# Results per row in B\n",
    "for i, rows in enumerate(results):\n",
    "    print(f\"\\nRows of A containing elements {B[i]}:\\n\", rows)"
   ]
  },
  {
   "cell_type": "markdown",
   "metadata": {},
   "source": [
    "#### 94. Considering a 10x3 matrix, extract rows with unequal values (e.g. [2,2,3]) (★★★)"
   ]
  },
  {
   "cell_type": "code",
   "execution_count": 12,
   "metadata": {},
   "outputs": [
    {
     "name": "stdout",
     "output_type": "stream",
     "text": [
      "Original matrix:\n",
      " [[1 3 3]\n",
      " [4 3 2]\n",
      " [1 1 0]\n",
      " [4 1 4]\n",
      " [2 1 4]\n",
      " [3 3 4]\n",
      " [3 3 1]\n",
      " [1 2 0]\n",
      " [2 2 1]\n",
      " [3 3 2]]\n",
      "\n",
      "Filtered rows (with unequal values):\n",
      " [[1 3 3]\n",
      " [4 3 2]\n",
      " [1 1 0]\n",
      " [4 1 4]\n",
      " [2 1 4]\n",
      " [3 3 4]\n",
      " [3 3 1]\n",
      " [1 2 0]\n",
      " [2 2 1]\n",
      " [3 3 2]]\n"
     ]
    }
   ],
   "source": [
    "X = np.random.randint(0, 5, (10, 3))\n",
    "print(\"Original matrix:\\n\", X)\n",
    "\n",
    "# Keep only rows with unequal values\n",
    "m = np.any(X != X[:, [0]], axis=1)   # check if any value differs from the first in the row\n",
    "filtered = X[m]\n",
    "\n",
    "print(\"\\nFiltered rows (with unequal values):\\n\", filtered)"
   ]
  },
  {
   "cell_type": "markdown",
   "metadata": {},
   "source": [
    "#### 95. Convert a vector of ints into a matrix binary representation (★★★)"
   ]
  },
  {
   "cell_type": "code",
   "execution_count": 11,
   "metadata": {},
   "outputs": [
    {
     "name": "stdout",
     "output_type": "stream",
     "text": [
      "Integers: [ 1  2  3  8 15]\n",
      "\n",
      "Binary matrix:\n",
      " [[0 0 0 1]\n",
      " [0 0 1 0]\n",
      " [0 0 1 1]\n",
      " [1 0 0 0]\n",
      " [1 1 1 1]]\n"
     ]
    }
   ],
   "source": [
    "Z = np.array([1, 2, 3, 8, 15], dtype=np.uint8)\n",
    "\n",
    "# Find number of bits needed (e.g., up to max value)\n",
    "n_bits = int(np.ceil(np.log2(Z.max() + 1)))\n",
    "\n",
    "# Convert each integer to binary representation\n",
    "binary_matrix = ((Z[:, None] & (1 << np.arange(n_bits)[::-1])) > 0).astype(int)\n",
    "\n",
    "print(\"Integers:\", Z)\n",
    "print(\"\\nBinary matrix:\\n\", binary_matrix)"
   ]
  },
  {
   "cell_type": "markdown",
   "metadata": {},
   "source": [
    "#### 96. Given a two dimensional array, how to extract unique rows? (★★★)"
   ]
  },
  {
   "cell_type": "code",
   "execution_count": 10,
   "metadata": {},
   "outputs": [
    {
     "name": "stdout",
     "output_type": "stream",
     "text": [
      "Original array:\n",
      " [[1 2 3]\n",
      " [4 5 6]\n",
      " [1 2 3]\n",
      " [7 8 9]\n",
      " [4 5 6]]\n",
      "\n",
      "Unique rows:\n",
      " [[1 2 3]\n",
      " [4 5 6]\n",
      " [7 8 9]]\n"
     ]
    }
   ],
   "source": [
    "X = np.array([\n",
    "    [1, 2, 3],\n",
    "    [4, 5, 6],\n",
    "    [1, 2, 3],\n",
    "    [7, 8, 9],\n",
    "    [4, 5, 6]\n",
    "])\n",
    "\n",
    "print(\"Original array:\\n\", X)\n",
    "\n",
    "# Extract unique rows\n",
    "unique_rows = np.unique(X, axis=0)\n",
    "\n",
    "print(\"\\nUnique rows:\\n\", unique_rows)"
   ]
  },
  {
   "cell_type": "markdown",
   "metadata": {},
   "source": [
    "#### 97. Considering 2 vectors A & B, write the einsum equivalent of inner, outer, sum, and mul function (★★★)"
   ]
  },
  {
   "cell_type": "code",
   "execution_count": 9,
   "metadata": {},
   "outputs": [
    {
     "name": "stdout",
     "output_type": "stream",
     "text": [
      "Inner product: 32\n",
      "Outer product:\n",
      " [[ 4  5  6]\n",
      " [ 8 10 12]\n",
      " [12 15 18]]\n",
      "Sum of A: 6\n",
      "Elementwise multiplication: [ 4 10 18]\n"
     ]
    }
   ],
   "source": [
    "A = np.array([1, 2, 3])\n",
    "B = np.array([4, 5, 6])\n",
    "\n",
    "# Inner Product\n",
    "inner = np.einsum('i,i->', A, B)\n",
    "print(\"Inner product:\", inner)\n",
    "\n",
    "# Outer Product\n",
    "outer = np.einsum('i,j->ij', A, B)\n",
    "print(\"Outer product:\\n\", outer)\n",
    "\n",
    "# Sum of elements\n",
    "s = np.einsum('i->', A)\n",
    "print(\"Sum of A:\", s)\n",
    "\n",
    "# Elementwise Multiplication\n",
    "mul = np.einsum('i,i->i', A, B)\n",
    "print(\"Elementwise multiplication:\", mul)"
   ]
  },
  {
   "cell_type": "markdown",
   "metadata": {},
   "source": [
    "#### 98. Considering a path described by two vectors (X,Y), how to sample it using equidistant samples (★★★)?"
   ]
  },
  {
   "cell_type": "code",
   "execution_count": null,
   "metadata": {},
   "outputs": [],
   "source": [
    "def sample_path_equidistant(X, Y, m):\n",
    "    \"\"\"\n",
    "    Sample the path defined by (X, Y) at m equidistant points along arc length.\n",
    "    \n",
    "    Parameters\n",
    "    ----------\n",
    "    X, Y : array_like, shape (N,)\n",
    "        Coordinates of the path (N points).\n",
    "    m : int\n",
    "        Number of equidistant samples desired (>=2 recommended).\n",
    "    \n",
    "    Returns\n",
    "    -------\n",
    "    Xs, Ys : ndarray, shape (m,)\n",
    "        Interpolated coordinates at equidistant arc-length positions.\n",
    "    \"\"\"\n",
    "    X = np.asarray(X, dtype=float)\n",
    "    Y = np.asarray(Y, dtype=float)\n",
    "    if X.shape != Y.shape:\n",
    "        raise ValueError(\"X and Y must have the same shape.\")\n",
    "    N = X.size\n",
    "    if N == 0:\n",
    "        return np.array([]), np.array([])\n",
    "\n",
    "    # Compute segment lengths\n",
    "    dx = np.diff(X)\n",
    "    dy = np.diff(Y)\n",
    "    seglen = np.hypot(dx, dy)  # sqrt(dx^2 + dy^2)\n",
    "    cumlen = np.concatenate(([0.0], np.cumsum(seglen)))  # length along path, length N\n",
    "\n",
    "    total = cumlen[-1]\n",
    "    if total == 0:  # all points identical\n",
    "        return np.full(m, X[0]), np.full(m, Y[0])\n",
    "\n",
    "    # Remove zero-length segments (consecutive duplicate points) to ensure strictly increasing cumlen\n",
    "    nonzero_mask = np.concatenate(([True], seglen > 1e-12))  # keep first point always\n",
    "    cumlen_clean = cumlen[nonzero_mask]\n",
    "    X_clean = X[nonzero_mask]\n",
    "    Y_clean = Y[nonzero_mask]\n",
    "\n",
    "    # If after cleaning we have only one point\n",
    "    if cumlen_clean.size == 1:\n",
    "        return np.full(m, X_clean[0]), np.full(m, Y_clean[0])\n",
    "\n",
    "    # target equally spaced distances along the path (include endpoints)\n",
    "    t = np.linspace(0.0, cumlen_clean[-1], m)\n",
    "\n",
    "    # linear interpolation of X and Y versus cumulative length\n",
    "    Xs = np.interp(t, cumlen_clean, X_clean)\n",
    "    Ys = np.interp(t, cumlen_clean, Y_clean)\n",
    "    return Xs, Ys"
   ]
  },
  {
   "cell_type": "markdown",
   "metadata": {},
   "source": [
    "#### 99. Given an integer n and a 2D array X, select from X the rows which can be interpreted as draws from a multinomial distribution with n degrees, i.e., the rows which only contain integers and which sum to n. (★★★)"
   ]
  },
  {
   "cell_type": "code",
   "execution_count": 8,
   "metadata": {},
   "outputs": [
    {
     "name": "stdout",
     "output_type": "stream",
     "text": [
      "Original X:\n",
      " [[2.  3.  5. ]\n",
      " [1.5 4.  5. ]\n",
      " [4.  6.  0. ]\n",
      " [3.  2.  4. ]]\n",
      "\n",
      "Valid multinomial rows (sum = 10 ):\n",
      " [[2. 3. 5.]\n",
      " [4. 6. 0.]]\n"
     ]
    }
   ],
   "source": [
    "X = np.array([\n",
    "    [2, 3, 5],\n",
    "    [1.5, 4, 5],\n",
    "    [4, 6, 0],\n",
    "    [3, 2, 4]\n",
    "])\n",
    "\n",
    "n = 10  # total \"degrees\"\n",
    "\n",
    "# Condition 1: all integers\n",
    "is_integer = np.all(np.equal(np.mod(X, 1), 0), axis=1)\n",
    "\n",
    "# Condition 2: row sums equal n\n",
    "has_sum_n = np.sum(X, axis=1) == n\n",
    "\n",
    "# Select valid rows\n",
    "valid_rows = X[is_integer & has_sum_n]\n",
    "\n",
    "print(\"Original X:\\n\", X)\n",
    "print(\"\\nValid multinomial rows (sum =\", n, \"):\\n\", valid_rows)"
   ]
  },
  {
   "cell_type": "markdown",
   "metadata": {},
   "source": [
    "#### 100. Compute bootstrapped 95% confidence intervals for the mean of a 1D array X (i.e., resample the elements of an array with replacement N times, compute the mean of each sample, and then compute percentiles over the means). (★★★)"
   ]
  },
  {
   "cell_type": "code",
   "execution_count": 7,
   "metadata": {},
   "outputs": [
    {
     "name": "stdout",
     "output_type": "stream",
     "text": [
      "Original Mean: 0.07784686941258759\n",
      "Bootstrapped 95% CI: (np.float64(-0.09950440442683155), np.float64(0.26798698770514917))\n"
     ]
    }
   ],
   "source": [
    "X = np.random.randn(100)  # 100 random values from standard normal\n",
    "\n",
    "# Number of bootstrap resamples\n",
    "N = 1000  \n",
    "\n",
    "# Collect bootstrap means\n",
    "means = []\n",
    "for _ in range(N):\n",
    "    sample = np.random.choice(X, size=len(X), replace=True)  # resample with replacement\n",
    "    means.append(sample.mean())\n",
    "\n",
    "means = np.array(means)\n",
    "\n",
    "# Compute 95% confidence interval (2.5th and 97.5th percentiles)\n",
    "ci_lower, ci_upper = np.percentile(means, [2.5, 97.5])\n",
    "\n",
    "print(\"Original Mean:\", X.mean())\n",
    "print(\"Bootstrapped 95% CI:\", (ci_lower, ci_upper))"
   ]
  },
  {
   "cell_type": "code",
   "execution_count": null,
   "metadata": {},
   "outputs": [],
   "source": []
  }
 ],
 "metadata": {
  "kernelspec": {
   "display_name": "pydata",
   "language": "python",
   "name": "python3"
  },
  "language_info": {
   "codemirror_mode": {
    "name": "ipython",
    "version": 3
   },
   "file_extension": ".py",
   "mimetype": "text/x-python",
   "name": "python",
   "nbconvert_exporter": "python",
   "pygments_lexer": "ipython3",
   "version": "3.13.5"
  }
 },
 "nbformat": 4,
 "nbformat_minor": 4
}
