{
 "cells": [
  {
   "cell_type": "markdown",
   "metadata": {},
   "source": [
    "# Numpy Exercise 3\n",
    "\n",
    "### All of the questions in this exercise are attributed to rougier/numpy-100"
   ]
  },
  {
   "cell_type": "code",
   "execution_count": 2,
   "metadata": {},
   "outputs": [],
   "source": [
    "import numpy as np"
   ]
  },
  {
   "cell_type": "markdown",
   "metadata": {},
   "source": [
    "#### 31. How to ignore all numpy warnings (not recommended)? (★☆☆)"
   ]
  },
  {
   "cell_type": "code",
   "execution_count": null,
   "metadata": {},
   "outputs": [],
   "source": []
  },
  {
   "cell_type": "markdown",
   "metadata": {},
   "source": [
    "#### 32. Is the following expressions true? (★☆☆)\n",
    "```python\n",
    "np.sqrt(-1) == np.emath.sqrt(-1)\n",
    "```"
   ]
  },
  {
   "cell_type": "code",
   "execution_count": null,
   "metadata": {},
   "outputs": [],
   "source": [
    "False"
   ]
  },
  {
   "cell_type": "markdown",
   "metadata": {},
   "source": [
    "#### 33. How to get the dates of yesterday, today and tomorrow? (★☆☆)"
   ]
  },
  {
   "cell_type": "code",
   "execution_count": 3,
   "metadata": {},
   "outputs": [
    {
     "name": "stdout",
     "output_type": "stream",
     "text": [
      "Yesterday: 2025-09-12\n",
      "Today:     2025-09-13\n",
      "Tomorrow:  2025-09-14\n"
     ]
    }
   ],
   "source": [
    "today = np.datetime64('today', 'D')\n",
    "yesterday = today - np.timedelta64(1, 'D')\n",
    "tomorrow = today + np.timedelta64(1, 'D')\n",
    "\n",
    "print(\"Yesterday:\", yesterday)\n",
    "print(\"Today:    \", today)\n",
    "print(\"Tomorrow: \", tomorrow)"
   ]
  },
  {
   "cell_type": "markdown",
   "metadata": {},
   "source": [
    "#### 34. How to get all the dates corresponding to the month of July 2016? (★★☆)"
   ]
  },
  {
   "cell_type": "code",
   "execution_count": 4,
   "metadata": {},
   "outputs": [
    {
     "name": "stdout",
     "output_type": "stream",
     "text": [
      "['2016-07-01' '2016-07-02' '2016-07-03' '2016-07-04' '2016-07-05'\n",
      " '2016-07-06' '2016-07-07' '2016-07-08' '2016-07-09' '2016-07-10'\n",
      " '2016-07-11' '2016-07-12' '2016-07-13' '2016-07-14' '2016-07-15'\n",
      " '2016-07-16' '2016-07-17' '2016-07-18' '2016-07-19' '2016-07-20'\n",
      " '2016-07-21' '2016-07-22' '2016-07-23' '2016-07-24' '2016-07-25'\n",
      " '2016-07-26' '2016-07-27' '2016-07-28' '2016-07-29' '2016-07-30'\n",
      " '2016-07-31']\n"
     ]
    }
   ],
   "source": [
    "july_dates = np.arange('2016-07', '2016-08', dtype='datetime64[D]')\n",
    "print(july_dates)"
   ]
  },
  {
   "cell_type": "markdown",
   "metadata": {},
   "source": [
    "#### 35. How to compute ((A+B)*(-A/2)) in place (without copy)? (★★☆)"
   ]
  },
  {
   "cell_type": "code",
   "execution_count": 5,
   "metadata": {},
   "outputs": [
    {
     "name": "stdout",
     "output_type": "stream",
     "text": [
      "[ -24.5  -40.5  -60.5  -84.5 -112.5]\n"
     ]
    }
   ],
   "source": [
    "A = np.arange(1, 6, dtype=float)  \n",
    "B = np.arange(6, 11, dtype=float) \n",
    "\n",
    "# Step 1: A += B   (A now holds A+B)\n",
    "np.add(A, B, out=A)\n",
    "\n",
    "# Step 2: A *= (-A/2)   (in place multiply)\n",
    "np.multiply(A, -A/2, out=A)\n",
    "\n",
    "print(A)"
   ]
  },
  {
   "cell_type": "markdown",
   "metadata": {},
   "source": [
    "#### 36. Extract the integer part of a random array of positive numbers using 4 different methods (★★☆)"
   ]
  },
  {
   "cell_type": "code",
   "execution_count": 6,
   "metadata": {},
   "outputs": [
    {
     "name": "stdout",
     "output_type": "stream",
     "text": [
      "Original: [5.25639746 4.1534041  6.14892029 9.26804529 2.6566457 ]\n",
      "Floor:    [5. 4. 6. 9. 2.]\n",
      "astype:   [5 4 6 9 2]\n",
      "Trunc:    [5. 4. 6. 9. 2.]\n",
      "Ceil-1:   [5. 4. 6. 9. 2.]\n"
     ]
    }
   ],
   "source": [
    "Z = np.random.uniform(0, 10, 5)   # 5 random floats in [0,10)\n",
    "print(\"Original:\", Z)\n",
    "\n",
    "# Method 1: np.floor\n",
    "print(\"Floor:   \", np.floor(Z))\n",
    "\n",
    "# Method 2: astype(int)\n",
    "print(\"astype:  \", Z.astype(int))\n",
    "\n",
    "# Method 3: np.trunc (truncate toward zero)\n",
    "print(\"Trunc:   \", np.trunc(Z))\n",
    "\n",
    "# Method 4: np.ceil(Z) - 1  (valid since Z > 0 and not integer already)\n",
    "print(\"Ceil-1:  \", np.ceil(Z) - 1)"
   ]
  },
  {
   "cell_type": "markdown",
   "metadata": {},
   "source": [
    "#### 37. Create a 5x5 matrix with row values ranging from 0 to 4 (★★☆)"
   ]
  },
  {
   "cell_type": "code",
   "execution_count": 7,
   "metadata": {},
   "outputs": [
    {
     "name": "stdout",
     "output_type": "stream",
     "text": [
      "[[0. 1. 2. 3. 4.]\n",
      " [0. 1. 2. 3. 4.]\n",
      " [0. 1. 2. 3. 4.]\n",
      " [0. 1. 2. 3. 4.]\n",
      " [0. 1. 2. 3. 4.]]\n"
     ]
    }
   ],
   "source": [
    "w = np.zeros((5,5)) + np.arange(5)\n",
    "print(w)"
   ]
  },
  {
   "cell_type": "markdown",
   "metadata": {},
   "source": [
    "#### 38. Consider a generator function that generates 10 integers and use it to build an array (★☆☆)"
   ]
  },
  {
   "cell_type": "code",
   "execution_count": 9,
   "metadata": {},
   "outputs": [
    {
     "name": "stdout",
     "output_type": "stream",
     "text": [
      "[0 1 2 3 4 5 6 7 8 9]\n"
     ]
    }
   ],
   "source": [
    "def gen():\n",
    "    for i in range(10):\n",
    "        yield i   # produces numbers 0 → 9 one by one\n",
    "\n",
    "# Build array from generator\n",
    "arr = np.fromiter(gen(), dtype=int)\n",
    "print(arr)"
   ]
  },
  {
   "cell_type": "markdown",
   "metadata": {},
   "source": [
    "#### 39. Create a vector of size 10 with values ranging from 0 to 1, both excluded (★★☆)"
   ]
  },
  {
   "cell_type": "code",
   "execution_count": 11,
   "metadata": {},
   "outputs": [
    {
     "name": "stdout",
     "output_type": "stream",
     "text": [
      "[0.09090909 0.18181818 0.27272727 0.36363636 0.45454545 0.54545455\n",
      " 0.63636364 0.72727273 0.81818182 0.90909091]\n"
     ]
    }
   ],
   "source": [
    "p = np.linspace(0, 1, 12)[1:-1]  # create 12 points and drop first & last\n",
    "print(p)"
   ]
  },
  {
   "cell_type": "markdown",
   "metadata": {},
   "source": [
    "#### 40. Create a random vector of size 10 and sort it (★★☆)"
   ]
  },
  {
   "cell_type": "code",
   "execution_count": null,
   "metadata": {},
   "outputs": [
    {
     "name": "stdout",
     "output_type": "stream",
     "text": [
      "Before sort: [0.19652255 0.7280699  0.97344836 0.25195902 0.01050815 0.84126662\n",
      " 0.90067924 0.69388231 0.29490214 0.81480466]\n",
      "After sort:  [0.01050815 0.19652255 0.25195902 0.29490214 0.69388231 0.7280699\n",
      " 0.81480466 0.84126662 0.90067924 0.97344836]\n"
     ]
    }
   ],
   "source": [
    "u = np.random.rand(10)   \n",
    "\n",
    "print(\"Before sort:\", u)\n",
    "\n",
    "# Sorting\n",
    "u_sorted = np.sort(u)\n",
    "print(\"After sort: \", u_sorted)"
   ]
  },
  {
   "cell_type": "markdown",
   "metadata": {},
   "source": [
    "#### 41. How to sum a small array faster than np.sum? (★★☆)"
   ]
  },
  {
   "cell_type": "code",
   "execution_count": 13,
   "metadata": {},
   "outputs": [
    {
     "name": "stdout",
     "output_type": "stream",
     "text": [
      "15\n"
     ]
    }
   ],
   "source": [
    "a = np.array([1, 2, 3, 4, 5])\n",
    "result = a.sum()  \n",
    "print(result)"
   ]
  },
  {
   "cell_type": "markdown",
   "metadata": {},
   "source": [
    "#### 42. Consider two random array A and B, check if they are equal (★★☆)"
   ]
  },
  {
   "cell_type": "code",
   "execution_count": 14,
   "metadata": {},
   "outputs": [
    {
     "name": "stdout",
     "output_type": "stream",
     "text": [
      "A:\n",
      " [[4 3 2]\n",
      " [1 1 2]\n",
      " [2 4 3]]\n",
      "B:\n",
      " [[2 1 3]\n",
      " [0 2 1]\n",
      " [1 2 2]]\n",
      "Element-wise:\n",
      " [[False False False]\n",
      " [False False False]\n",
      " [False False False]]\n",
      "Arrays equal?: False\n",
      "Arrays close?: False\n"
     ]
    }
   ],
   "source": [
    "A = np.random.randint(0, 5, (3,3))\n",
    "B = np.random.randint(0, 5, (3,3))\n",
    "\n",
    "print(\"A:\\n\", A)\n",
    "print(\"B:\\n\", B)\n",
    "\n",
    "# 1. Element-wise comparison\n",
    "print(\"Element-wise:\\n\", A == B)\n",
    "\n",
    "# 2. Check if all elements are equal\n",
    "print(\"Arrays equal?:\", np.array_equal(A, B))\n",
    "\n",
    "# 3. For floating-point arrays (with tolerance)\n",
    "print(\"Arrays close?:\", np.allclose(A, B))"
   ]
  },
  {
   "cell_type": "markdown",
   "metadata": {},
   "source": [
    "#### 43. Make an array immutable (read-only) (★★☆)"
   ]
  },
  {
   "cell_type": "code",
   "execution_count": 15,
   "metadata": {},
   "outputs": [
    {
     "name": "stdout",
     "output_type": "stream",
     "text": [
      "Before: [0 1 2 3 4 5 6 7 8 9]\n",
      "Error: assignment destination is read-only\n"
     ]
    }
   ],
   "source": [
    "\n",
    "# Create a normal array\n",
    "a = np.arange(10)\n",
    "print(\"Before:\", a)\n",
    "\n",
    "# Make it read-only\n",
    "a.flags.writeable = False\n",
    "\n",
    "# Try modifying it (it will raise an error)\n",
    "try:\n",
    "    a[0] = 99\n",
    "except ValueError as e:\n",
    "    print(\"Error:\", e)"
   ]
  },
  {
   "cell_type": "markdown",
   "metadata": {},
   "source": [
    "#### 44. Consider a random 10x2 matrix representing cartesian coordinates, convert them to polar coordinates (★★☆)"
   ]
  },
  {
   "cell_type": "code",
   "execution_count": 16,
   "metadata": {},
   "outputs": [
    {
     "name": "stdout",
     "output_type": "stream",
     "text": [
      "Cartesian (x, y):\n",
      " [[5.96906838 9.64057175]\n",
      " [9.05532748 8.48093963]\n",
      " [1.69442428 7.9412875 ]\n",
      " [0.08451952 1.79370502]\n",
      " [4.34610377 8.28744131]\n",
      " [1.67912171 2.20182639]\n",
      " [8.19111274 8.30667243]\n",
      " [7.9624237  0.3210788 ]\n",
      " [1.35986461 1.71816009]\n",
      " [1.48642577 8.0787129 ]]\n",
      "\n",
      "Polar (r, θ):\n",
      " [[11.33888888  1.01640669]\n",
      " [12.40666325  0.75265559]\n",
      " [ 8.12004438  1.36057966]\n",
      " [ 1.7956952   1.52371107]\n",
      " [ 9.35790048  1.08780375]\n",
      " [ 2.76902314  0.91927731]\n",
      " [11.66598194  0.79240261]\n",
      " [ 7.9688947   0.04030242]\n",
      " [ 2.19118822  0.90128099]\n",
      " [ 8.21432065  1.38883851]]\n"
     ]
    }
   ],
   "source": [
    "# Create a random 10x2 matrix for (x, y)\n",
    "Z = np.random.random((10, 2)) * 10   # random values scaled for clarity\n",
    "\n",
    "# Separate x and y\n",
    "x = Z[:, 0]\n",
    "y = Z[:, 1]\n",
    "\n",
    "# Convert to polar coordinates\n",
    "r = np.sqrt(x**2 + y**2)        # radius\n",
    "theta = np.arctan2(y, x)        # angle in radians\n",
    "\n",
    "# Combine into polar coordinates\n",
    "polar = np.column_stack((r, theta))\n",
    "\n",
    "print(\"Cartesian (x, y):\\n\", Z)\n",
    "print(\"\\nPolar (r, θ):\\n\", polar)"
   ]
  },
  {
   "cell_type": "markdown",
   "metadata": {},
   "source": [
    "#### 45. Create random vector of size 10 and replace the maximum value by 0 (★★☆)"
   ]
  },
  {
   "cell_type": "code",
   "execution_count": 17,
   "metadata": {},
   "outputs": [
    {
     "name": "stdout",
     "output_type": "stream",
     "text": [
      "[0.43174818 0.14114726 0.61183267 0.88156397 0.67255543 0.01431094\n",
      " 0.20252118 0.34442193 0.56433435 0.00817633]\n",
      "\n",
      "Modified vector:\n",
      " [0.43174818 0.14114726 0.61183267 0.         0.67255543 0.01431094\n",
      " 0.20252118 0.34442193 0.56433435 0.00817633]\n"
     ]
    }
   ],
   "source": [
    "\n",
    "Z = np.random.random(10)\n",
    "print(Z)\n",
    "\n",
    "# Find the index of the maximum value\n",
    "max_idx = Z.argmax()\n",
    "\n",
    "# Replace maximum value with 0\n",
    "Z[max_idx] = 0\n",
    "print(\"\\nModified vector:\\n\", Z)"
   ]
  }
 ],
 "metadata": {
  "kernelspec": {
   "display_name": "pydata",
   "language": "python",
   "name": "python3"
  },
  "language_info": {
   "codemirror_mode": {
    "name": "ipython",
    "version": 3
   },
   "file_extension": ".py",
   "mimetype": "text/x-python",
   "name": "python",
   "nbconvert_exporter": "python",
   "pygments_lexer": "ipython3",
   "version": "3.13.5"
  }
 },
 "nbformat": 4,
 "nbformat_minor": 4
}
